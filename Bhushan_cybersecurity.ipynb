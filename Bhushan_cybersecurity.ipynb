{
  "nbformat": 4,
  "nbformat_minor": 0,
  "metadata": {
    "colab": {
      "name": "Bhushan_cybersecurity.ipynb",
      "provenance": [],
      "collapsed_sections": [],
      "authorship_tag": "ABX9TyOKbB1lQXWSS3pk2ZtRI9f3",
      "include_colab_link": true
    },
    "kernelspec": {
      "name": "python3",
      "display_name": "Python 3"
    },
    "language_info": {
      "name": "python"
    }
  },
  "cells": [
    {
      "cell_type": "markdown",
      "metadata": {
        "id": "view-in-github",
        "colab_type": "text"
      },
      "source": [
        "<a href=\"https://colab.research.google.com/github/bhushan0512/ShapeAI_python_cyber_security/blob/main/Bhushan_cybersecurity.ipynb\" target=\"_parent\"><img src=\"https://colab.research.google.com/assets/colab-badge.svg\" alt=\"Open In Colab\"/></a>"
      ]
    },
    {
      "cell_type": "code",
      "metadata": {
        "id": "cuPjoIkYm_2R"
      },
      "source": [
        "import requests"
      ],
      "execution_count": null,
      "outputs": []
    },
    {
      "cell_type": "code",
      "metadata": {
        "id": "KKVXLt6ymmDI"
      },
      "source": [
        " \n",
        "from datetime import datetime"
      ],
      "execution_count": null,
      "outputs": []
    },
    {
      "cell_type": "code",
      "metadata": {
        "id": "aTNI0ab9mwGF",
        "colab": {
          "base_uri": "https://localhost:8080/"
        },
        "outputId": "18257f10-94bc-48ea-827d-a35cf99afdbb"
      },
      "source": [
        "api_key = '7f8674636b23acf291df6c46699288b0'\n",
        "location = input(\"Enter the city name:\")\n",
        "complete_api_link=\"http://api.openweathermap.org/data/2.5/weather?q=\"+location+\"&appid=\"+api_key\n",
        "api_link = requests.get(complete_api_link)\n",
        "api_data = api_link.json()\n",
        " \n",
        "temp_city = ((api_data['main']['temp'])-273.15)\n",
        "weather_desc = api_data['weather'][0]['description']\n",
        "hmdt = api_data['main']['humidity']\n",
        "wind_spd = api_data['wind']['speed']\n",
        "date_time = datetime.now().strftime(\"%d %b %Y | %I:%M:%S %p\")\n",
        " \n",
        "print(\"-----------------------------------------------------------------------------------\")\n",
        "print(\"Weather Stats For - {} || {}\".format(location.upper(),date_time))\n",
        "print(\"-----------------------------------------------------------------------------------\")\n",
        " \n",
        "print(\"current Temperature is: {:.2f} deg C\".format(temp_city))\n",
        "print(\"Current Weather desc  :\",weather_desc)\n",
        "print(\"Current Humidity      :\",hmdt, '%')\n",
        "print(\"Current Wind speed    :\",wind_spd ,\"kmph\")"
      ],
      "execution_count": null,
      "outputs": [
        {
          "output_type": "stream",
          "text": [
            "Enter the city name:Mumbai\n",
            "-----------------------------------------------------------------------------------\n",
            "Weather Stats For - MUMBAI || 23 Jun 2021 | 12:22:42 PM\n",
            "-----------------------------------------------------------------------------------\n",
            "current Temperature is: 30.99 deg C\n",
            "Current Weather desc  : haze\n",
            "Current Humidity      : 74 %\n",
            "Current Wind speed    : 6.69 kmph\n"
          ],
          "name": "stdout"
        }
      ]
    },
    {
      "cell_type": "code",
      "metadata": {
        "id": "2lnK9Zg6oI0e"
      },
      "source": [
        "doctxt=[temp_city,weather_desc,hmdt,wind_spd,date_time]\n",
        "with open(\"bhushan_cybersecurity.txt\",'w',encoding = 'utf-8')as f:\n",
        "  f.write(\"-----------------------------------------------------------------------------------\")\n",
        "  f.write(\"Weather Stats for - {} || {}\".format(location.upper(),date_time))\n",
        "  f.write(\"-----------------------------------------------------------------------------------\")\n",
        "  f.write(\"current Temperature is: {:.2f} deg C\\n\".format(doctxt[0]))\n",
        " \n",
        "  f.write(\"{},{}\\n\".format(\"Current weather desc :\",doctxt[1]))\n",
        "  f.write(\"{} ,{} ,{} \\n\".format(\"Current Humidity :\",doctxt[2],\"%\"))\n",
        "  f.write(\"{} ,{} ,{} \\n\".format(\"Current Wind speed  :\",doctxt[3],\"kmph\"))\n",
        "  f.write(\"-----------------------------------------------------------------------------------\")\n",
        " \n",
        "  f.close"
      ],
      "execution_count": null,
      "outputs": []
    }
  ]
}